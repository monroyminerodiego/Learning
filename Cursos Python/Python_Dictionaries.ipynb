{
 "cells": [
  {
   "cell_type": "markdown",
   "metadata": {},
   "source": [
    "## Diccionarios en Python ##"
   ]
  },
  {
   "cell_type": "markdown",
   "metadata": {},
   "source": [
    "**CARACTERÍSTICAS DE LOS DICCIONARIOS**\n",
    "- Los diccionarios están encerrados en llaves **\"{ }\"** y cada elemento de le conoce como **_item._**\n",
    "- Todos los **_items_** de un diccionario tienen una relacion llave-valor o mejor conocido como **\"_key-value._\"**\n",
    "- Un ejemplo de cómo se ve un diccionario es el siguiente:"
   ]
  },
  {
   "cell_type": "code",
   "execution_count": 1,
   "metadata": {},
   "outputs": [
    {
     "name": "stdout",
     "output_type": "stream",
     "text": [
      "Diego tiene 20 años\n",
      "<class 'int'>\n"
     ]
    }
   ],
   "source": [
    "my_dict = {'nombre':'Diego','Apellido_Paterno':'Monroy','Apellido_Materno':'Minero','edad':20}\n",
    "print(my_dict['nombre']+' tiene',my_dict['edad'],'años')\n",
    "print(type(my_dict['edad']))"
   ]
  },
  {
   "cell_type": "markdown",
   "metadata": {},
   "source": [
    "- También se pueden crear los diccionarios con **una** lista iterable de valores, como lo son las listas, por ejemplo:"
   ]
  },
  {
   "cell_type": "code",
   "execution_count": 2,
   "metadata": {},
   "outputs": [
    {
     "name": "stdout",
     "output_type": "stream",
     "text": [
      "{'Claudia': 'mujer', 'Laura': 'mujer', 'Fernanda': 'mujer'}\n"
     ]
    }
   ],
   "source": [
    "adultos = ['Claudia','Laura','Javier','Fernanda','Diego']\n",
    "adultos_mujeres = {nombre:'mujer' for nombre in adultos if nombre[-1] == 'a'}\n",
    "print (adultos_mujeres)"
   ]
  },
  {
   "cell_type": "markdown",
   "metadata": {},
   "source": [
    "- A si mismo, también se puede con dos objetos iterables, como dos listas que contengan en una la clave y en otra el valor, por ejemplo:"
   ]
  },
  {
   "cell_type": "code",
   "execution_count": 3,
   "metadata": {},
   "outputs": [
    {
     "name": "stdout",
     "output_type": "stream",
     "text": [
      "{'Claudia': 55, 'Laura': 49, 'Javier': 27, 'Fernanda': 24, 'Diego': 20}\n"
     ]
    }
   ],
   "source": [
    "#sólo escribo la lista de edades porque la de nombres está en la celda anterior\n",
    "edades = [55,49,27,24,20]\n",
    "nombres_edad = {adultos:edades for (adultos,edades) in zip(adultos,edades)}\n",
    "print(nombres_edad)"
   ]
  },
  {
   "cell_type": "markdown",
   "metadata": {},
   "source": [
    "- Para acceder a todos los pares **\"_key-value_\"** de un diccionario, se utiliza la funcion **items()**"
   ]
  },
  {
   "cell_type": "code",
   "execution_count": 4,
   "metadata": {},
   "outputs": [
    {
     "name": "stdout",
     "output_type": "stream",
     "text": [
      "dict_items([('Claudia', 55), ('Laura', 49), ('Javier', 27), ('Fernanda', 24), ('Diego', 20)])\n"
     ]
    }
   ],
   "source": [
    "print(nombres_edad.items())"
   ]
  },
  {
   "cell_type": "markdown",
   "metadata": {},
   "source": [
    "- Si ya tenemos un diccionario en Python y queremos crear uno nuevo a partir de este diccionario, pero que cumpla una condicion, se puede ocupar la funcion **items()** debido a que los diccionarios se pueden crear a raíz de objetos iterables (Los diccionarios también son objetos iterables)"
   ]
  },
  {
   "cell_type": "code",
   "execution_count": 5,
   "metadata": {},
   "outputs": [
    {
     "name": "stdout",
     "output_type": "stream",
     "text": [
      "Los hombres son {'Javier': 27, 'Diego': 20}\n",
      "Y las mujeres son {'Claudia': 55, 'Laura': 49, 'Fernanda': 24}\n"
     ]
    }
   ],
   "source": [
    "hombres = {nombre:edad for (nombre,edad) in nombres_edad.items() if nombre[-1] != 'a'}\n",
    "mujeres = {nombre:edad for (nombre,edad) in nombres_edad.items() if nombre[-1] == 'a'}\n",
    "\n",
    "print('Los hombres son '+str(hombres)+'\\nY las mujeres son '+str(mujeres))"
   ]
  }
 ],
 "metadata": {
  "kernelspec": {
   "display_name": "Python 3.10.5 64-bit",
   "language": "python",
   "name": "python3"
  },
  "language_info": {
   "codemirror_mode": {
    "name": "ipython",
    "version": 3
   },
   "file_extension": ".py",
   "mimetype": "text/x-python",
   "name": "python",
   "nbconvert_exporter": "python",
   "pygments_lexer": "ipython3",
   "version": "3.10.5"
  },
  "orig_nbformat": 4,
  "vscode": {
   "interpreter": {
    "hash": "98b7f83ea1f6816592be813d0a9257f9f3e2d15bf5c320e3b781c72faa584dce"
   }
  }
 },
 "nbformat": 4,
 "nbformat_minor": 2
}
